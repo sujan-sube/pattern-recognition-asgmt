{
 "cells": [
  {
   "cell_type": "markdown",
   "metadata": {},
   "source": [
    "# Assignment 1\n",
    "This file covers the solutions to the 4 questions on assignment 1.\n",
    "1. Generate samples using a given covariance matrix.\n",
    "2. Create decision boundaries giving class priors.\n",
    "3. Implement the PCA dimensionality reduction technqiue.\n",
    "4. Implement the kNN classifier."
   ]
  }
 ],
 "metadata": {
  "kernelspec": {
   "display_name": "Python 3",
   "language": "python",
   "name": "python3"
  },
  "language_info": {
   "codemirror_mode": {
    "name": "ipython",
    "version": 3
   },
   "file_extension": ".py",
   "mimetype": "text/x-python",
   "name": "python",
   "nbconvert_exporter": "python",
   "pygments_lexer": "ipython3",
   "version": "3.6.8"
  }
 },
 "nbformat": 4,
 "nbformat_minor": 2
}
